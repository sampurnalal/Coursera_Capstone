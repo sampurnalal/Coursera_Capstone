{
 "cells": [
  {
   "cell_type": "markdown",
   "metadata": {},
   "source": [
    "# Introduction"
   ]
  },
  {
   "cell_type": "markdown",
   "metadata": {},
   "source": [
    "Severe accidents not only lead to human loss of life but also heavy economic loss to the country. It also consumes a lot of time. At the top any loss of human life is very dreadful. If we see data there are approximately 1.35 million people die each year as a result of road traffic crashes. Effect of this on their family members can’t be explained. In some cases there are people who managed to survive but they have to suffer there whole life due to some permanent illness caused by the accident.\n",
    "\n",
    "Now let’s take the data of economic loss, the total cost of crashes was approximately $146.3 million. On an average traffic crash cost nations around 3% of their GNP(Gross National Product).\n"
   ]
  },
  {
   "cell_type": "markdown",
   "metadata": {},
   "source": [
    "## Problem"
   ]
  },
  {
   "cell_type": "markdown",
   "metadata": {},
   "source": [
    "Now wouldn’t it be great if somehow we came to know about the possibility of us getting into an accident. That’s exactly what we are going to do in this project.\n",
    "This will help numerous people in saving their life. Not only this it would also cut the expenditure of crashes which may also help in the nation’s economy."
   ]
  },
  {
   "cell_type": "markdown",
   "metadata": {},
   "source": [
    "# Data Description"
   ]
  },
  {
   "cell_type": "markdown",
   "metadata": {},
   "source": [
    "I have used the shared data which was available in the course itself. The raw data contains 194673 rows and 38 columns/features. There were some rows which I didn’t find useful in prediction and thus they were dropped. Duplicate or highly similar columns/features were also dropped.\n",
    "There were missing values in the row which accounted for approx 2% data and thus they were also dropped.\n"
   ]
  },
  {
   "cell_type": "code",
   "execution_count": null,
   "metadata": {},
   "outputs": [],
   "source": []
  }
 ],
 "metadata": {
  "kernelspec": {
   "display_name": "Python 3",
   "language": "python",
   "name": "python3"
  },
  "language_info": {
   "codemirror_mode": {
    "name": "ipython",
    "version": 3
   },
   "file_extension": ".py",
   "mimetype": "text/x-python",
   "name": "python",
   "nbconvert_exporter": "python",
   "pygments_lexer": "ipython3",
   "version": "3.7.6"
  }
 },
 "nbformat": 4,
 "nbformat_minor": 4
}
